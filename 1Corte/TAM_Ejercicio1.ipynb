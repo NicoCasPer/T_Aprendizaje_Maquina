{
  "nbformat": 4,
  "nbformat_minor": 0,
  "metadata": {
    "colab": {
      "private_outputs": true,
      "provenance": [],
      "authorship_tag": "ABX9TyPZVo7vsRTtex8xynNnPYvh",
      "include_colab_link": true
    },
    "kernelspec": {
      "name": "python3",
      "display_name": "Python 3"
    },
    "language_info": {
      "name": "python"
    }
  },
  "cells": [
    {
      "cell_type": "markdown",
      "metadata": {
        "id": "view-in-github",
        "colab_type": "text"
      },
      "source": [
        "<a href=\"https://colab.research.google.com/github/NicoCasPer/T_Aprendizaje_Maquina/blob/main/1Corte/TAM_Ejercicio1.ipynb\" target=\"_parent\"><img src=\"https://colab.research.google.com/assets/colab-badge.svg\" alt=\"Open In Colab\"/></a>"
      ]
    },
    {
      "cell_type": "markdown",
      "source": [
        "***PROMPT:***\n",
        "\n",
        "Estoy realizando un experimento que consiste de 2 cajas nombradas con B, una azul denominada b y otra roja denominada r, cada una con manzanas y naranjas dentro, y una probabilidad diferente de sacar cualquier fruta en cada caja. Caja Azul: tiene 3 manzanas y 1 naranja, con una probabilidad de sacar cualquiera de esta caja de 60%. Caja Roja: tiene 6 naranjas y 2 manzanas, con una probabilidad de sacar fruta de esta caja de 40%. Dame las probabilidades marginales de cada fruta y empleando el teorema de Bayes dame cada una de las probabilidades condicionales de que, dado que se sacó una fruta, de qué caja provino, y las probabilidades de sacar cada fruta de cada caja."
      ],
      "metadata": {
        "id": "FT2CWnXg3s6C"
      }
    },
    {
      "cell_type": "code",
      "source": [
        "# prompt: Estoy realizando un experimento que consiste de 2 cajas nombradas con B, una azul denominada b y otra roja denominada r, cada una con manzanas y naranjas dentro, y una probabilidad diferente de sacar cualquier fruta en cada caja. Caja Azul: tiene 3 manzanas y 1 naranja, con una probabilidad de sacar cualquiera de esta caja de 60%. Caja Roja: tiene 6 naranjas y 2 manzanas, con una probabilidad de sacar fruta de esta caja de 40%. Dame las probabilidades marginales de cada fruta y empleando el teorema de Bayes dame cada una de las probabilidades condicionales de que, dado que se sacó una fruta, de qué caja provino, y las probabilidades de sacar cada fruta de cada caja.\n",
        "\n",
        "# Probabilidades previas de seleccionar cada caja\n",
        "P_B = 0.6  # Probabilidad de seleccionar la caja azul\n",
        "P_R = 0.4  # Probabilidad de seleccionar la caja roja\n",
        "\n",
        "# Probabilidades de sacar cada fruta de cada caja\n",
        "P_M_dado_B = 3 / 4  # Probabilidad de sacar una manzana de la caja azul\n",
        "P_N_dado_B = 1 / 4  # Probabilidad de sacar una naranja de la caja azul\n",
        "P_M_dado_R = 2 / 8  # Probabilidad de sacar una manzana de la caja roja\n",
        "P_N_dado_R = 6 / 8  # Probabilidad de sacar una naranja de la caja roja\n",
        "\n",
        "# Probabilidades marginales de cada fruta (Teorema de la Probabilidad Total)\n",
        "P_M = (P_M_dado_B * P_B) + (P_M_dado_R * P_R)  # Probabilidad marginal de sacar una manzana\n",
        "P_N = (P_N_dado_B * P_B) + (P_N_dado_R * P_R)  # Probabilidad marginal de sacar una naranja\n",
        "\n",
        "# Probabilidades condicionales (Teorema de Bayes)\n",
        "# Probabilidad de que la fruta provenga de la caja azul, dado que es una manzana\n",
        "P_B_dado_M = (P_M_dado_B * P_B) / P_M\n",
        "\n",
        "# Probabilidad de que la fruta provenga de la caja roja, dado que es una manzana\n",
        "P_R_dado_M = (P_M_dado_R * P_R) / P_M\n",
        "\n",
        "# Probabilidad de que la fruta provenga de la caja azul, dado que es una naranja\n",
        "P_B_dado_N = (P_N_dado_B * P_B) / P_N\n",
        "\n",
        "# Probabilidad de que la fruta provenga de la caja roja, dado que es una naranja\n",
        "P_R_dado_N = (P_N_dado_R * P_R) / P_N\n",
        "\n",
        "# Resultados\n",
        "print(\"Probabilidad marginal de sacar una manzana:\", P_M)\n",
        "print(\"Probabilidad marginal de sacar una naranja:\", P_N)\n",
        "\n",
        "print(\"\\nProbabilidades condicionales (dada una manzana):\")\n",
        "print(\"Probabilidad de que sea de la caja azul:\", P_B_dado_M)\n",
        "print(\"Probabilidad de que sea de la caja roja:\", P_R_dado_M)\n",
        "\n",
        "print(\"\\nProbabilidades condicionales (dada una naranja):\")\n",
        "print(\"Probabilidad de que sea de la caja azul:\", P_B_dado_N)\n",
        "print(\"Probabilidad de que sea de la caja roja:\", P_R_dado_N)\n",
        "\n",
        "\n",
        "print(\"\\nProbabilidades de sacar cada fruta de cada caja:\")\n",
        "print(\"Probabilidad de Manzana de la caja Azul:\", P_M_dado_B)\n",
        "print(\"Probabilidad de Naranja de la caja Azul:\", P_N_dado_B)\n",
        "print(\"Probabilidad de Manzana de la caja Roja:\", P_M_dado_R)\n",
        "print(\"Probabilidad de Naranja de la caja Roja:\", P_N_dado_R)\n"
      ],
      "metadata": {
        "id": "BtqoRNIKy8Gq"
      },
      "execution_count": null,
      "outputs": []
    },
    {
      "cell_type": "markdown",
      "source": [
        "***PROMPT:***\n",
        "\n",
        "Ahora dame un código general para que el usuario tenga que indicar todos los valores de variables, la cantidad de cajas que hay en el experimento, cuantos objetos diferentes hay por caja, la probabilidad de que salga cada caja y el número de objetos que hay por cada caja. Lo anterior siguiendo el experimento de calcular todas las probabilidades posibles marginales, condicionales para las cajas dados que se escogió un objeto en cada caso aplicando el teorema de bayes. También que pregunte el nombre de cada caja y objeto, además dame los resultados en fracciones enteras. Dame también las probabilidades de sacar cada objeto, y de provenir de cada caja según un objeto sacado"
      ],
      "metadata": {
        "id": "Scw9DhL0X0dW"
      }
    },
    {
      "cell_type": "code",
      "source": [
        "0# prompt: Ahora dame un código general para que el usuario tenga que indicar todos los valores de variables, la cantidad de cajas que hay en el experimento, cuantos objetos diferentes hay por caja, la probabilidad de que salga cada caja y el número de objetos que hay por cada caja. Lo anterior siguiendo el experimento de calcular todas las probabilidades posibles marginales, condicionales para las cajas dados que se escogió un objeto en cada caso aplicando el teorema de bayes. También que pregunte el nombre de cada caja y objeto, además dame los resultados en fracciones enteras. Dame también las probabilidades de sacar cada objeto, y de provenir de cada caja según un objeto sacado\n",
        "\n",
        "from fractions import Fraction\n",
        "\n",
        "def probabilidad_objetos():\n",
        "    \"\"\"Calcula probabilidades de sacar objetos de varias cajas.\"\"\"\n",
        "\n",
        "    try:\n",
        "        num_cajas = int(input(\"Ingrese el número de cajas: \"))\n",
        "        num_objetos = int(input(\"Ingrese el número de tipos de objetos: \"))\n",
        "\n",
        "        nombres_cajas = []\n",
        "        for i in range(num_cajas):\n",
        "            nombres_cajas.append(input(f\"Ingrese el nombre de la caja {i+1}: \"))\n",
        "\n",
        "        nombres_objetos = []\n",
        "        for i in range(num_objetos):\n",
        "            nombres_objetos.append(input(f\"Ingrese el nombre del objeto {i+1}: \"))\n",
        "\n",
        "        probabilidades_cajas = []\n",
        "        for i in range(num_cajas):\n",
        "            while True:\n",
        "                try:\n",
        "                    prob = float(input(f\"Ingrese la probabilidad de elegir la caja {nombres_cajas[i]} (0-1): \"))\n",
        "                    if 0 <= prob <= 1:\n",
        "                        probabilidades_cajas.append(prob)\n",
        "                        break\n",
        "                    else:\n",
        "                        print(\"La probabilidad debe estar entre 0 y 1.\")\n",
        "                except ValueError:\n",
        "                    print(\"Ingrese un valor numérico válido.\")\n",
        "\n",
        "        # Verificar que la suma de probabilidades de cajas sea 1\n",
        "        if not (abs(sum(probabilidades_cajas) - 1) < 1e-6):\n",
        "            raise ValueError(\"La suma de las probabilidades de las cajas debe ser 1.\")\n",
        "\n",
        "        cantidad_objetos_por_caja = []\n",
        "        for i in range(num_cajas):\n",
        "            cantidad_objetos = []\n",
        "            for j in range (num_objetos):\n",
        "                while True:\n",
        "                    try:\n",
        "                        cant = int(input(f\"Ingrese la cantidad del objeto {nombres_objetos[j]} en la caja {nombres_cajas[i]}: \"))\n",
        "                        if cant >= 0:\n",
        "                            cantidad_objetos.append(cant)\n",
        "                            break\n",
        "                        else:\n",
        "                            print(\"La cantidad debe ser mayor o igual a 0.\")\n",
        "                    except ValueError:\n",
        "                        print(\"Ingrese un valor entero válido.\")\n",
        "            cantidad_objetos_por_caja.append(cantidad_objetos)\n",
        "\n",
        "        # Calcular probabilidades\n",
        "        probabilidades_objetos = [0] * num_objetos\n",
        "        for i in range(num_objetos):\n",
        "            for j in range(num_cajas):\n",
        "                probabilidades_objetos[i] += probabilidades_cajas[j] * (cantidad_objetos_por_caja[j][i] / sum(cantidad_objetos_por_caja[j]))\n",
        "\n",
        "        print(\"\\nProbabilidades de sacar cada objeto:\")\n",
        "        for i in range(num_objetos):\n",
        "            print(f\"Probabilidad de sacar {nombres_objetos[i]}: {Fraction(probabilidades_objetos[i]).limit_denominator()}\")\n",
        "\n",
        "        print(\"\\nProbabilidades de provenir de cada caja dado un objeto:\")\n",
        "\n",
        "        for i in range(num_objetos):\n",
        "            print(f\"\\nProbabilidades dado que se sacó un/a {nombres_objetos[i]}:\")\n",
        "            for j in range(num_cajas):\n",
        "                prob_caja_dado_objeto = (probabilidades_cajas[j] * (cantidad_objetos_por_caja[j][i] / sum(cantidad_objetos_por_caja[j]))) / probabilidades_objetos[i]\n",
        "                print(f\"Probabilidad de que provenga de la caja {nombres_cajas[j]}: {Fraction(prob_caja_dado_objeto).limit_denominator()}\")\n",
        "\n",
        "    except ValueError as e:\n",
        "        print(f\"Error: {e}\")\n",
        "    except Exception as e:\n",
        "        print(f\"Ocurrió un error inesperado: {e}\")\n",
        "\n",
        "probabilidad_objetos()\n"
      ],
      "metadata": {
        "id": "8gCOtMYhYKn2"
      },
      "execution_count": null,
      "outputs": []
    }
  ]
}