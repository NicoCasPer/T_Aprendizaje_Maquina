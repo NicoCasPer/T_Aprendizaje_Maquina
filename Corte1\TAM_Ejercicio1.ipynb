{
  "nbformat": 4,
  "nbformat_minor": 0,
  "metadata": {
    "colab": {
      "private_outputs": true,
      "provenance": [],
      "authorship_tag": "ABX9TyPrhKQGMTkMu6u77Abbeqsc",
      "include_colab_link": true
    },
    "kernelspec": {
      "name": "python3",
      "display_name": "Python 3"
    },
    "language_info": {
      "name": "python"
    }
  },
  "cells": [
    {
      "cell_type": "markdown",
      "metadata": {
        "id": "view-in-github",
        "colab_type": "text"
      },
      "source": [
        "<a href=\"https://colab.research.google.com/github/NicoCasPer/T_Aprendizaje_Maquina/blob/main/Corte1%5CTAM_Ejercicio1.ipynb\" target=\"_parent\"><img src=\"https://colab.research.google.com/assets/colab-badge.svg\" alt=\"Open In Colab\"/></a>"
      ]
    },
    {
      "cell_type": "markdown",
      "source": [
        "***PROMPT:***\n",
        "\n",
        "Realicé un experimento para determinar las probabilidades de sacar 2 frutas (Manzana \"a\", Naranjas \"o\") de 2 cajas (Azul \"b\", Roja \"r\"), la probabilidad de ser una caja u otra deben ser 2 valores que indique el usuario. En la caja \"b\", hay 3 \"a\" y 1 \"o\". En la caja \"r\", hay 6 \"o\" y 2 \"a\". Que el código calcule todas las probabilidades posibles, tanto marginales como condicionales en cada caso."
      ],
      "metadata": {
        "id": "vE4eDW8dWfr6"
      }
    },
    {
      "cell_type": "code",
      "execution_count": null,
      "metadata": {
        "id": "qlB1KSB3Sy9U"
      },
      "outputs": [],
      "source": [
        "# prompt: Realicé un experimento para determinar las probabilidades de sacar 2 frutas (Manzana \"a\", Naranjas \"o\") de 2 cajas (Azul \"b\", Roja \"r\"), la probabilidad de ser una caja u otra deben ser 2 valores que ingrese el usuario. En la caja \"b\", hay 3 \"a\" y 1 \"o\". En la caja \"r\", hay 6 \"o\" y 2 \"a\". Que el código calcule todas las probabilidades posibles, tanto marginales como condicionales en cada caso.\n",
        "\n",
        "def probabilidad_frutas():\n",
        "    \"\"\"Calcula probabilidades de sacar frutas de dos cajas.\"\"\"\n",
        "\n",
        "    try:\n",
        "        prob_azul = float(input(\"Ingrese la probabilidad de elegir la caja azul (0-1): \"))\n",
        "        prob_roja = float(input(\"Ingrese la probabilidad de elegir la caja roja (0-1): \"))\n",
        "\n",
        "        if not (0 <= prob_azul <= 1 and 0 <= prob_roja <= 1 and prob_azul + prob_roja == 1):\n",
        "            raise ValueError(\"Las probabilidades deben estar entre 0 y 1 y sumar 1.\")\n",
        "\n",
        "        # Probabilidades de las frutas en cada caja\n",
        "        prob_manzana_azul = 3/4  # 3 manzanas / 4 frutas totales en la caja azul\n",
        "        prob_naranja_azul = 1/4\n",
        "\n",
        "        prob_manzana_roja = 2/8  # 2 manzanas / 8 frutas totales en la caja roja\n",
        "        prob_naranja_roja = 6/8\n",
        "\n",
        "        # Probabilidades marginales de sacar cada fruta\n",
        "        prob_manzana = prob_azul * prob_manzana_azul + prob_roja * prob_manzana_roja\n",
        "        prob_naranja = prob_azul * prob_naranja_azul + prob_roja * prob_naranja_roja\n",
        "\n",
        "        print(\"\\nProbabilidades Marginales:\")\n",
        "        print(f\"Probabilidad de sacar una manzana: {prob_manzana}\")\n",
        "        print(f\"Probabilidad de sacar una naranja: {prob_naranja}\")\n",
        "\n",
        "\n",
        "        # Probabilidades condicionales\n",
        "        prob_azul_dado_manzana = (prob_manzana_azul * prob_azul) / prob_manzana\n",
        "        prob_roja_dado_manzana = (prob_manzana_roja * prob_roja) / prob_manzana\n",
        "\n",
        "        prob_azul_dado_naranja = (prob_naranja_azul * prob_azul) / prob_naranja\n",
        "        prob_roja_dado_naranja = (prob_naranja_roja * prob_roja) / prob_naranja\n",
        "\n",
        "\n",
        "        print(\"\\nProbabilidades Condicionales:\")\n",
        "        print(f\"Probabilidad de haber elegido la caja azul dado que se sacó una manzana: {prob_azul_dado_manzana}\")\n",
        "        print(f\"Probabilidad de haber elegido la caja roja dado que se sacó una manzana: {prob_roja_dado_manzana}\")\n",
        "        print(f\"Probabilidad de haber elegido la caja azul dado que se sacó una naranja: {prob_azul_dado_naranja}\")\n",
        "        print(f\"Probabilidad de haber elegido la caja roja dado que se sacó una naranja: {prob_roja_dado_naranja}\")\n",
        "\n",
        "\n",
        "    except ValueError as e:\n",
        "        print(f\"Error: {e}\")\n",
        "    except Exception as e:\n",
        "        print(f\"Ocurrió un error inesperado: {e}\")\n",
        "\n",
        "probabilidad_frutas()\n"
      ]
    },
    {
      "cell_type": "markdown",
      "source": [
        "***PROMPT:***\n",
        "\n",
        "Ahora dame un código general para que el usuario tenga que indicar todos los valores de variables, la cantidad de manzanas y naranjas tanto en la caja toja o azul, y la probabilidad de escoger cada caja. Lo anterior siguiendo el experimento de calcular todas las probabilidades posibles"
      ],
      "metadata": {
        "id": "Scw9DhL0X0dW"
      }
    },
    {
      "cell_type": "code",
      "source": [
        "0# prompt: Ahora dame un código general para que el usuario tenga que indicar todos los valores de variables, la cantidad de cajas que hay en el experimento, cuantos objetos diferentes hay por caja, la probabilidad de que salga cada caja y el número de objetos que hay por cada caja. Lo anterior siguiendo el experimento de calcular todas las probabilidades posibles marginales, condicionales para las cajas dados que se escogió un objeto en cada caso aplicando el teorema de bayes. También que pregunte el nombre de cada caja y objeto, además dame los resultados en fracciones enteras. Dame también las probabilidades de sacar cada objeto, y de provenir de cada caja según un objeto sacado\n",
        "\n",
        "from fractions import Fraction\n",
        "\n",
        "def probabilidad_objetos():\n",
        "    \"\"\"Calcula probabilidades de sacar objetos de varias cajas.\"\"\"\n",
        "\n",
        "    try:\n",
        "        num_cajas = int(input(\"Ingrese el número de cajas: \"))\n",
        "        num_objetos = int(input(\"Ingrese el número de tipos de objetos: \"))\n",
        "\n",
        "        nombres_cajas = []\n",
        "        for i in range(num_cajas):\n",
        "            nombres_cajas.append(input(f\"Ingrese el nombre de la caja {i+1}: \"))\n",
        "\n",
        "        nombres_objetos = []\n",
        "        for i in range(num_objetos):\n",
        "            nombres_objetos.append(input(f\"Ingrese el nombre del objeto {i+1}: \"))\n",
        "\n",
        "        probabilidades_cajas = []\n",
        "        for i in range(num_cajas):\n",
        "            while True:\n",
        "                try:\n",
        "                    prob = float(input(f\"Ingrese la probabilidad de elegir la caja {nombres_cajas[i]} (0-1): \"))\n",
        "                    if 0 <= prob <= 1:\n",
        "                        probabilidades_cajas.append(prob)\n",
        "                        break\n",
        "                    else:\n",
        "                        print(\"La probabilidad debe estar entre 0 y 1.\")\n",
        "                except ValueError:\n",
        "                    print(\"Ingrese un valor numérico válido.\")\n",
        "\n",
        "        # Verificar que la suma de probabilidades de cajas sea 1\n",
        "        if not (abs(sum(probabilidades_cajas) - 1) < 1e-6):\n",
        "            raise ValueError(\"La suma de las probabilidades de las cajas debe ser 1.\")\n",
        "\n",
        "        cantidad_objetos_por_caja = []\n",
        "        for i in range(num_cajas):\n",
        "            cantidad_objetos = []\n",
        "            for j in range (num_objetos):\n",
        "                while True:\n",
        "                    try:\n",
        "                        cant = int(input(f\"Ingrese la cantidad del objeto {nombres_objetos[j]} en la caja {nombres_cajas[i]}: \"))\n",
        "                        if cant >= 0:\n",
        "                            cantidad_objetos.append(cant)\n",
        "                            break\n",
        "                        else:\n",
        "                            print(\"La cantidad debe ser mayor o igual a 0.\")\n",
        "                    except ValueError:\n",
        "                        print(\"Ingrese un valor entero válido.\")\n",
        "            cantidad_objetos_por_caja.append(cantidad_objetos)\n",
        "\n",
        "        # Calcular probabilidades\n",
        "        probabilidades_objetos = [0] * num_objetos\n",
        "        for i in range(num_objetos):\n",
        "            for j in range(num_cajas):\n",
        "                probabilidades_objetos[i] += probabilidades_cajas[j] * (cantidad_objetos_por_caja[j][i] / sum(cantidad_objetos_por_caja[j]))\n",
        "\n",
        "        print(\"\\nProbabilidades de sacar cada objeto:\")\n",
        "        for i in range(num_objetos):\n",
        "            print(f\"Probabilidad de sacar {nombres_objetos[i]}: {Fraction(probabilidades_objetos[i]).limit_denominator()}\")\n",
        "\n",
        "        print(\"\\nProbabilidades de provenir de cada caja dado un objeto:\")\n",
        "\n",
        "        for i in range(num_objetos):\n",
        "            print(f\"\\nProbabilidades dado que se sacó un/a {nombres_objetos[i]}:\")\n",
        "            for j in range(num_cajas):\n",
        "                prob_caja_dado_objeto = (probabilidades_cajas[j] * (cantidad_objetos_por_caja[j][i] / sum(cantidad_objetos_por_caja[j]))) / probabilidades_objetos[i]\n",
        "                print(f\"Probabilidad de que provenga de la caja {nombres_cajas[j]}: {Fraction(prob_caja_dado_objeto).limit_denominator()}\")\n",
        "\n",
        "    except ValueError as e:\n",
        "        print(f\"Error: {e}\")\n",
        "    except Exception as e:\n",
        "        print(f\"Ocurrió un error inesperado: {e}\")\n",
        "\n",
        "probabilidad_objetos()\n"
      ],
      "metadata": {
        "id": "8gCOtMYhYKn2"
      },
      "execution_count": null,
      "outputs": []
    }
  ]
}